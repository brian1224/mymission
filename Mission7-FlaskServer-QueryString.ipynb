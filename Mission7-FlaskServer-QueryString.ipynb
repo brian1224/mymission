{
 "cells": [
  {
   "cell_type": "code",
   "execution_count": null,
   "metadata": {},
   "outputs": [
    {
     "name": "stdout",
     "output_type": "stream",
     "text": [
      " * Serving Flask app \"__main__\" (lazy loading)\n",
      " * Environment: production\n",
      "   WARNING: Do not use the development server in a production environment.\n",
      "   Use a production WSGI server instead.\n",
      " * Debug mode: off\n"
     ]
    },
    {
     "name": "stderr",
     "output_type": "stream",
     "text": [
      " * Running on http://0.0.0.0:5000/ (Press CTRL+C to quit)\n",
      "10.120.23.215 - - [14/Jan/2019 14:16:29] \"GET / HTTP/1.1\" 200 -\n",
      "10.120.23.215 - - [14/Jan/2019 14:16:38] \"GET /?id=5555 HTTP/1.1\" 200 -\n"
     ]
    }
   ],
   "source": [
    "#撰寫一個Flask Server， 設計一個端口為user，用戶能對此端口用GET方法訪問，\n",
    "#並且挾帶query string， id=xxx。 若用戶傳入 id=123，則傳回json{\"userId\":123}\n",
    "\n",
    "\n",
    "#調用套件flask\n",
    "from flask import Flask, request, abort,jsonify\n",
    "#設置app的啟動點\n",
    "app = Flask(__name__)\n",
    "#定義app訪問的路徑/用戶能對此端口用get的方法訪問\n",
    "\n",
    "@app.route('/',methods=['GET'])\n",
    "\n",
    "# 用戶輸入id=xxx，則會回傳{\"userid\":xxx\"}\n",
    "# request.args.get('id')-----獲取get请求的参数\n",
    "def user_id():\n",
    "    t = request.args.get('id')\n",
    "    jsonDict = {'userId': t}\n",
    "    return jsonify(jsonDict)\n",
    "\n",
    "#啟用app\n",
    "if __name__==\"__main__\":\n",
    "    app.run(host='0.0.0.0',port='5000')\n"
   ]
  },
  {
   "cell_type": "code",
   "execution_count": null,
   "metadata": {},
   "outputs": [],
   "source": []
  },
  {
   "cell_type": "code",
   "execution_count": null,
   "metadata": {},
   "outputs": [],
   "source": []
  }
 ],
 "metadata": {
  "kernelspec": {
   "display_name": "Python 3",
   "language": "python",
   "name": "python3"
  },
  "language_info": {
   "codemirror_mode": {
    "name": "ipython",
    "version": 3
   },
   "file_extension": ".py",
   "mimetype": "text/x-python",
   "name": "python",
   "nbconvert_exporter": "python",
   "pygments_lexer": "ipython3",
   "version": "3.7.1"
  }
 },
 "nbformat": 4,
 "nbformat_minor": 2
}
