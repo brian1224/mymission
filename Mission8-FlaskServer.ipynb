{
 "cells": [
  {
   "cell_type": "code",
   "execution_count": null,
   "metadata": {},
   "outputs": [
    {
     "name": "stdout",
     "output_type": "stream",
     "text": [
      " * Serving Flask app \"__main__\" (lazy loading)\n",
      " * Environment: production\n",
      "   WARNING: Do not use the development server in a production environment.\n",
      "   Use a production WSGI server instead.\n",
      " * Debug mode: off\n"
     ]
    },
    {
     "name": "stderr",
     "output_type": "stream",
     "text": [
      " * Running on http://0.0.0.0:5000/ (Press CTRL+C to quit)\n",
      "10.120.23.215 - - [22/Jan/2019 17:26:20] \"POST / HTTP/1.1\" 200 -\n"
     ]
    },
    {
     "name": "stdout",
     "output_type": "stream",
     "text": [
      "{'ETag': '\"5bb95635d9727e3a17b13c7982776782\"',\n",
      " 'ResponseMetadata': {'HTTPHeaders': {'content-length': '0',\n",
      "                                      'date': 'Tue, 22 Jan 2019 09:26:20 GMT',\n",
      "                                      'etag': '\"5bb95635d9727e3a17b13c7982776782\"',\n",
      "                                      'server': 'AmazonS3',\n",
      "                                      'x-amz-id-2': 'SSb9tKaRJhja1tSYRij3Ia46mrAdV/rxspamteIRgcpw2KoTl6hiX8m4nmIHZcxHS+rhJ9VScA8=',\n",
      "                                      'x-amz-request-id': '8C927323DBC13A20'},\n",
      "                      'HTTPStatusCode': 200,\n",
      "                      'HostId': 'SSb9tKaRJhja1tSYRij3Ia46mrAdV/rxspamteIRgcpw2KoTl6hiX8m4nmIHZcxHS+rhJ9VScA8=',\n",
      "                      'RequestId': '8C927323DBC13A20',\n",
      "                      'RetryAttempts': 0}}\n"
     ]
    }
   ],
   "source": [
    "#引用套件\n",
    "from flask import Flask, request, jsonify\n",
    "import boto3\n",
    "from pprint import pprint\n",
    "import os\n",
    "\n",
    "#flask這個應用的啟動點\n",
    "app = Flask(__name__,static_url_path = \"/images\" , static_folder = \"./images/\" )\n",
    "#為這個啟動點增加訪問路徑'/' ,使用post方法訪問\n",
    "@app.route('/',methods=['POST'])\n",
    "def hello():\n",
    "    t =request.get_json()\n",
    "    #取得用戶json的nickname,並且組成{'student':'hello'}\n",
    "    jsonDict = {'student':t.get('nickname','hello')}\n",
    "    body = str(jsonDict)\n",
    "    # 開一個檔案\n",
    "    missionFile = open('mission8.txt','w')\n",
    "    missionFile.write(body)\n",
    "    missionFile.close()   \n",
    "    \n",
    "#===========================上傳到S3中=============================\n",
    "    #告知boto3要啟用s3\n",
    "    s3resource = boto3.resource('s3')\n",
    "    #使用s3客戶端上傳檔案到s3的butket(iii-tutorial-v2下的student5)\n",
    "    uploadObject=s3resource.Object('iii-tutorial-v2', 'student5/mission8.txt').put(Body=open('./mission8.txt', 'rb'))\n",
    "    pprint(uploadObject)\n",
    "\n",
    "    \n",
    "    \n",
    "    \n",
    "    \n",
    "    \n",
    "    return jsonify(jsonDict)\n",
    "if __name__ == \"__main__\":\n",
    "    app.run(host='0.0.0.0')"
   ]
  },
  {
   "cell_type": "code",
   "execution_count": null,
   "metadata": {},
   "outputs": [],
   "source": []
  }
 ],
 "metadata": {
  "kernelspec": {
   "display_name": "Python 3",
   "language": "python",
   "name": "python3"
  },
  "language_info": {
   "codemirror_mode": {
    "name": "ipython",
    "version": 3
   },
   "file_extension": ".py",
   "mimetype": "text/x-python",
   "name": "python",
   "nbconvert_exporter": "python",
   "pygments_lexer": "ipython3",
   "version": "3.6.8"
  }
 },
 "nbformat": 4,
 "nbformat_minor": 2
}
