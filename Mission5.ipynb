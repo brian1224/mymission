{
 "cells": [
  {
   "cell_type": "code",
   "execution_count": 21,
   "metadata": {},
   "outputs": [],
   "source": [
    "#引用套件\n",
    "import requests\n",
    "#引用套件Json\n",
    "import json\n",
    "#引用套件\n",
    "import datetime\n",
    "\n",
    "#使用(requests)，訪問訪問https://jsonplaceholder.typicode.com/users\n",
    "r = requests.get('https://jsonplaceholder.typicode.com/users')\n",
    "rJson=r.json()\n",
    "#print (rJson.text)\n",
    "#取得第2,3,4,5 筆資料\n",
    "Json2_5=rJson[1:5]\n",
    "#print (Json2_5)\n",
    "\n",
    "#偵測日期，存入一個變數，等等用來當檔名\n",
    "nowTime = datetime.datetime.utcnow().strftime(\"%Y%m%d%H%M\")\n",
    "#測試一下print(nowTime)\n",
    "#偵測日期的變數+副檔名\n",
    "filename = str(nowTime) + '.txt'\n",
    "\n",
    "#我要打開檔案，並執行寫入的動作\n",
    "newfile = open(filename,'w') \n",
    "#寫入2~5的資料進我剛剛的newfile\n",
    "newfile.write(str(Json2_5)) \n",
    "#關閉檔案\n",
    "newfile.close()\n",
    "\n",
    "\n",
    "\n",
    "\n",
    "\n",
    "\n",
    "\n"
   ]
  },
  {
   "cell_type": "code",
   "execution_count": null,
   "metadata": {},
   "outputs": [],
   "source": []
  },
  {
   "cell_type": "code",
   "execution_count": null,
   "metadata": {},
   "outputs": [],
   "source": []
  }
 ],
 "metadata": {
  "kernelspec": {
   "display_name": "Python 3",
   "language": "python",
   "name": "python3"
  },
  "language_info": {
   "codemirror_mode": {
    "name": "ipython",
    "version": 3
   },
   "file_extension": ".py",
   "mimetype": "text/x-python",
   "name": "python",
   "nbconvert_exporter": "python",
   "pygments_lexer": "ipython3",
   "version": "3.7.1"
  }
 },
 "nbformat": 4,
 "nbformat_minor": 2
}
