{
 "cells": [
  {
   "cell_type": "code",
   "execution_count": null,
   "metadata": {},
   "outputs": [],
   "source": [
    "#flask 簡單hello world 實作\n",
    "\n",
    "#安裝flask套件\n",
    "#!pip install flask\n",
    "\n",
    "#調用套件flask\n",
    "#\n",
    "from flask import Flask, request, abort,jsonify\n",
    "#設置app的啟動點\n",
    "app = Flask(__name__,static_url_path = \"/images\" , static_folder = \"./images/\" )\n",
    "#定義app訪問的路徑/用戶能對此端口用get的方法訪問\n",
    "\n",
    "@app.route('/',methods=['GET'])\n",
    "\n",
    "#傳回{\"userid\":1,\"userName\":\"xiaoming\"}\n",
    "def hello_world():\n",
    "#\n",
    "    t = {\"userId\":1,\"userName\":\"xiaoming\"}\n",
    "#\n",
    "    return jsonify(t)\n",
    "\n",
    "#啟用app(為user設計一個端口，win10記得去防火牆設定port規則)\n",
    "if __name__==\"__main__\":\n",
    "    app.run(host='0.0.0.0',port='5000')"
   ]
  }
 ],
 "metadata": {
  "kernelspec": {
   "display_name": "Python 3",
   "language": "python",
   "name": "python3"
  },
  "language_info": {
   "codemirror_mode": {
    "name": "ipython",
    "version": 3
   },
   "file_extension": ".py",
   "mimetype": "text/x-python",
   "name": "python",
   "nbconvert_exporter": "python",
   "pygments_lexer": "ipython3",
   "version": "3.7.1"
  }
 },
 "nbformat": 4,
 "nbformat_minor": 2
}
