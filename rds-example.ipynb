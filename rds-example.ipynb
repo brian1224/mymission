{
 "cells": [
  {
   "cell_type": "code",
   "execution_count": 10,
   "metadata": {
    "scrolled": false
   },
   "outputs": [
    {
     "name": "stdout",
     "output_type": "stream",
     "text": [
      "Requirement already satisfied: PyMySQL in /opt/conda/lib/python3.7/site-packages (0.9.3)\n",
      "Database version : 10.3.12-MariaDB-1:10.3.12+maria~bionic \n",
      "('information_schema',)\n",
      "('mission10',)\n",
      "('mysql',)\n",
      "('performance_schema',)\n"
     ]
    }
   ],
   "source": [
    "\"\"\"\n",
    "開啟一個rds-example.ipynb\n",
    "用PyMySQL套件連結至mysql進行\n",
    "創建資料庫，資料表，插入資料，查詢資料\n",
    "\n",
    "\"\"\"\n",
    "#引用套件(dockerfile 沒有RUN成功.......?)\n",
    "!pip install PyMySQL\n",
    "import pymysql\n",
    "    #登入資料庫(python,mysql支持中文-utf-8编码)\n",
    "db = pymysql.connect(host='cc104.mysql', user='root', port=3306, passwd='db', db='', charset='utf8')\n",
    "    # 使用 cursor() 方法創建一個游標對象 cursor\n",
    "cursor = db.cursor()\n",
    "    # 使用 execute()  方法執行 SQL 查詢\n",
    "cursor.execute(\"SELECT VERSION()\")\n",
    "    # 使用 fetchone() 方法來取得紀錄.\n",
    "data = cursor.fetchone()\n",
    "    #顯示版本\n",
    "print (\"Database version : %s \" % data)\n",
    "\n",
    "\n",
    "    #若mission10資料庫存在就刪除\n",
    "cursor.execute(\"drop database if exists mission10\")\n",
    "    #建立mission10資料庫\n",
    "cursor.execute(\"CREATE DATABASE mission10\")\n",
    "cursor.execute(\"SHOW DATABASES\")\n",
    "    #顯示資料庫\n",
    "for x in cursor:\n",
    "  print(x)\n",
    "\n",
    "    #選取 mission10 資料庫\n",
    "cursor.execute(\"use mission10\")\n",
    "\n",
    "\n",
    "    ##用SQL語法，建立資料表欄位\n",
    "sql = '''CREATE TABLE student (\n",
    "        #使ID欄位自動編號，由0開始以1累加，將ID欄位設成主鍵\n",
    "        ID int NOT NULL AUTO_INCREMENT PRIMARY KEY,\n",
    "        Name varchar(20) NOT NULL,       #名字不會超過10個字 = 不會超過 20Bytes\n",
    "        class varchar(20) NOT NULL,     #班級設定20Bytes\n",
    "        number int)                         #號碼欄位\n",
    "'''\n",
    "\n",
    "cursor.execute(sql)\n",
    "\n",
    "    #定義資料庫語法 (%s)數量取決於資料有幾種\n",
    "sql = 'INSERT INTO student values (%s,%s,%s,%s)'\n",
    "cc= {(1,'ass', 'cc104', 24), \n",
    "     (2,'tiger', 'cc104', 5), \n",
    "     (3,'yoda', 'cc104', 4)}\n",
    "  \n",
    "    #插入資料表\n",
    "cursor.executemany(sql,cc)\n",
    "\n",
    "\n",
    "#提交語句到資料庫\n",
    "db.commit()\n",
    "\n",
    "\n",
    "\n",
    "#cursor.execute('select * from student')"
   ]
  },
  {
   "cell_type": "code",
   "execution_count": null,
   "metadata": {},
   "outputs": [],
   "source": []
  }
 ],
 "metadata": {
  "kernelspec": {
   "display_name": "Python 3",
   "language": "python",
   "name": "python3"
  },
  "language_info": {
   "codemirror_mode": {
    "name": "ipython",
    "version": 3
   },
   "file_extension": ".py",
   "mimetype": "text/x-python",
   "name": "python",
   "nbconvert_exporter": "python",
   "pygments_lexer": "ipython3",
   "version": "3.7.1"
  }
 },
 "nbformat": 4,
 "nbformat_minor": 2
}
