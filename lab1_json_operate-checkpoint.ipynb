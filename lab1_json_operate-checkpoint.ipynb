{
 "cells": [
  {
   "cell_type": "code",
   "execution_count": 17,
   "metadata": {
    "scrolled": true
   },
   "outputs": [],
   "source": [
    "import os\n",
    "import json\n",
    "from pprint import pprint\n",
    "\n",
    "#新增一個json\n",
    "json1 ={     \"1.name\":\" Vinci\", \n",
    "            \"2.number\":\"0028526\",\n",
    "            \"3.identity\":{ \"spy\":\"class a\" , \"ship\":\"captain\" },\n",
    "            \"4.friend\":[ \"yaoyao\",\"fangfang\",\"tu,shen\",\"siao,yuan\" ]    \n",
    "}\n",
    "\n",
    "#pprint(json)\n",
    "#print(os.getcwd())\n",
    "#創造資料夾(條件:判斷資料夾是否存在，不存在創造)\n",
    "if not os.path.exists('Mission4') :\n",
    "       os.makedirs('Mission4')\n",
    "#将 Python 对象编码成 JSON 字符串\n",
    "onlyyou= json.dumps(json1)\n",
    "#開啟一個檔案\n",
    "file1 = open('Mission4/domdomdom','w')\n",
    "#寫資料進入檔案\n",
    "file1.write(onlyyou)\n",
    "#將檔案關閉\n",
    "file1.close()\n",
    "\n",
    "#讀取該檔案\n",
    "file2 = open('Mission4/domdomdom','r')\n",
    "#将已编码的 JSON 字符串解码为 Python 对象，並寫入變數\n",
    "json2 = json.load(file2)\n",
    "#關閉檔案\n",
    "file2.close()\n",
    "#做操作，將四個欄位進行內容修改\n",
    "json2[\"1.name\"] = \"tonpohu\"\n",
    "json2[\"2.number\"] = 9527\n",
    "json2[\"3.identity\"] = { \"huifu\":\"servant\" , \"tonfu\":\"master\" }\n",
    "json2[\"4.friend\"] = [\"spring\",\"summer\",\"full\",\"winter\"]\n",
    "#打開\n",
    "file3 = open('Mission4/domdomdom' , 'w')\n",
    "#寫入\n",
    "oh = json.dumps(json2)\n",
    "file3.write(oh)\n",
    "#將檔案關閉\n",
    "file3.close()"
   ]
  },
  {
   "cell_type": "code",
   "execution_count": null,
   "metadata": {},
   "outputs": [],
   "source": []
  },
  {
   "cell_type": "code",
   "execution_count": null,
   "metadata": {},
   "outputs": [],
   "source": []
  },
  {
   "cell_type": "code",
   "execution_count": null,
   "metadata": {},
   "outputs": [],
   "source": []
  },
  {
   "cell_type": "code",
   "execution_count": null,
   "metadata": {},
   "outputs": [],
   "source": []
  }
 ],
 "metadata": {
  "kernelspec": {
   "display_name": "Python 3",
   "language": "python",
   "name": "python3"
  },
  "language_info": {
   "codemirror_mode": {
    "name": "ipython",
    "version": 3
   },
   "file_extension": ".py",
   "mimetype": "text/x-python",
   "name": "python",
   "nbconvert_exporter": "python",
   "pygments_lexer": "ipython3",
   "version": "3.7.1"
  }
 },
 "nbformat": 4,
 "nbformat_minor": 2
}
